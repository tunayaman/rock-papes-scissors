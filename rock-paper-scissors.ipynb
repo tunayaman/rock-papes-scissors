{
 "cells": [
  {
   "cell_type": "code",
   "execution_count": null,
   "id": "68349bac-8a70-4c06-ae98-c0754f943b1b",
   "metadata": {},
   "outputs": [],
   "source": [
    "import random\n",
    "import math\n",
    "\n",
    "def play():\n",
    "    user = input(\"What's your choice? 'r' for rock, 'p' for paper, 's' for scissors\\n\")\n",
    "    user = user.lower()\n",
    "\n",
    "    computer = random.choice(['r', 'p', 's'])\n",
    "\n",
    "    if user == computer:\n",
    "        return (0, user, computer)\n",
    "\n",
    "    # r > s, s > p, p > r\n",
    "    if is_win(user, computer):\n",
    "        return (1, user, computer)\n",
    "\n",
    "    return (-1, user, computer)\n",
    "\n",
    "def is_win(player, opponent):\n",
    "    # return true is the player beats the opponent\n",
    "    # winning conditions: r > s, s > p, p > r\n",
    "    if (player == 'r' and opponent == 's') or (player == 's' and opponent == 'p') or (player == 'p' and opponent == 'r'):\n",
    "        return True\n",
    "    return False\n",
    "\n",
    "def play_best_of(n):\n",
    "    # play against the computer until someone wins best of n games\n",
    "    # to win, you must win ceil(n/2) games (ie 2/3, 3/5, 4/7)\n",
    "    player_wins = 0\n",
    "    computer_wins = 0\n",
    "    wins_necessary = math.ceil(n/2)\n",
    "    while player_wins < wins_necessary and computer_wins < wins_necessary:\n",
    "        result, user, computer = play()\n",
    "        # tie\n",
    "        if result == 0:\n",
    "            print('It is a tie. You and the computer have both chosen {}. \\n'.format(user))\n",
    "        # you win\n",
    "        elif result == 1:\n",
    "            player_wins += 1\n",
    "            print('You chose {} and the computer chose {}. You won!\\n'.format(user, computer))\n",
    "        else:\n",
    "            computer_wins += 1\n",
    "            print('You chose {} and the computer chose {}. You lost :(\\n'.format(user, computer))\n",
    "\n",
    "    if player_wins > computer_wins:\n",
    "        print('You have won the best of {} games! What a champ :D'.format(n))\n",
    "    else:\n",
    "        print('Unfortunately, the computer has won the best of {} games. Better luck next time!'.format(n))\n",
    "\n",
    "\n",
    "if __name__ == '__main__':\n",
    "    play_best_of(3) # 2"
   ]
  }
 ],
 "metadata": {
  "kernelspec": {
   "display_name": "Python 3 (ipykernel)",
   "language": "python",
   "name": "python3"
  },
  "language_info": {
   "codemirror_mode": {
    "name": "ipython",
    "version": 3
   },
   "file_extension": ".py",
   "mimetype": "text/x-python",
   "name": "python",
   "nbconvert_exporter": "python",
   "pygments_lexer": "ipython3",
   "version": "3.13.1"
  }
 },
 "nbformat": 4,
 "nbformat_minor": 5
}
